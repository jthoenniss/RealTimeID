{
 "cells": [
  {
   "cell_type": "code",
   "execution_count": 2,
   "metadata": {},
   "outputs": [
    {
     "name": "stdout",
     "output_type": "stream",
     "text": [
      "Warning: 'REALTIMEID_PATH' environment variable is not set.\n"
     ]
    }
   ],
   "source": [
    "# Standard libraries\n",
    "import numpy as np\n",
    "import matplotlib.pyplot as plt\n",
    "import matplotlib.cm as cm\n",
    "import matplotlib.colors as mcolors\n",
    "\n",
    "# Project Path Setup\n",
    "from setup_project_path import check_and_add_project_path  # Script to check and add project path\n",
    "check_and_add_project_path()\n",
    "\n",
    "# Import Custom Modules\n",
    "from src.all_custom_modules import DiscrError, DlrKernel, cf, DataInterp, plot_data, Hdf5Kernel # Consolidated custom modules import\n"
   ]
  },
  {
   "cell_type": "code",
   "execution_count": 3,
   "metadata": {},
   "outputs": [],
   "source": [
    "#_____Set Parameters______\n",
    "\n",
    "params = {\n",
    "    \"m\": None,  # to be updated for each computation\n",
    "    \"n\": None,  # to be updated for each computation\n",
    "    \"N_max\": None,  # not specified as we will directly pass the time grids \"times\"\n",
    "    \"delta_t\": 0.1,  #this step that we will use below to set the time grids\n",
    "    \"beta\": np.inf,  # inverse temperature\n",
    "    \"upper_cutoff\": np.inf,  # frequency cutoff for continous integrations\n",
    "    \"h\": None,  # to be updated for each computation\n",
    "    \"phi\": np.pi/4,#rotation angle in complex frequency plane\n",
    "}  \n",
    "\n",
    "#Array specifying all values for the discreitzation parameter, h, that should be evaluated\n",
    "h_vals = np.log( np.arange(2., 1.0, -0.125))  \n",
    "nbr_hs = len(h_vals)\n",
    "\n",
    "#Array specifying all values for the total number of time steps, N_max, that should be evaluated\n",
    "N_maxs = np.concatenate((np.arange(20,1000,500),np.arange(1100,1000,1000)))\n",
    "nbr_N_maxs = len(N_maxs)\n",
    "\n",
    "#Array specifying all values for inverse temperature, beta, that should be evaluated\n",
    "betas = [0,20, 100, 10000]\n",
    "nbr_betas = len(betas)\n",
    "\n",
    "#grid dimensions for grid spanned by the following array: N_maxs, h_vals and betas.\n",
    "param_grid_dims = (nbr_hs, nbr_N_maxs, nbr_betas)"
   ]
  },
  {
   "cell_type": "code",
   "execution_count": 4,
   "metadata": {},
   "outputs": [],
   "source": [
    "#Define filename of hdf5 file holding the data and create Hdf5Kernel object associated with the file\n",
    "filename = f'../data/delta_t={params[\"delta_t\"]}.h5'\n",
    "\n",
    "#Create instance of Hdf5Kernel\n",
    "h5_kernel = Hdf5Kernel(filename=filename)"
   ]
  },
  {
   "cell_type": "code",
   "execution_count": 5,
   "metadata": {},
   "outputs": [
    {
     "name": "stderr",
     "output_type": "stream",
     "text": [
      "/Users/julianthoenniss/Documents/PhD/code/channel_IF/RealTimeID/src/utils/common_funcs.py:234: IntegrationWarning: The occurrence of roundoff error is detected, which prevents \n",
      "  the requested tolerance from being achieved.  The error may be \n",
      "  underestimated.\n",
      "  right_segment_cont_real, _ = integrate.quad(\n"
     ]
    }
   ],
   "source": [
    "#for each point on the parameter grid, compute the discretization error and the corresponding DlrKernel object, \n",
    "#and store in hdf5 file associated with 'h5_kernel'.\n",
    "#create hdf5 file to write to\n",
    "h5_kernel.create_file(kernel_dims= param_grid_dims)\n",
    "\n",
    "for b, beta in enumerate(betas):\n",
    "    for tau, N_max in enumerate(N_maxs):\n",
    "\n",
    "        cf.update_parameters(params, {\"N_max\": N_max})\n",
    "        cf.update_parameters(params, {\"beta\": beta})\n",
    "\n",
    "        #compute continous-frequency integral\n",
    "        times = cf.set_time_grid(N_max=params[\"N_max\"], delta_t= params[\"delta_t\"])\n",
    "        cont_integral = np.array([cf.cont_integral(t, params[\"beta\"], params[\"upper_cutoff\"])for t in times])  \n",
    "        \n",
    "        for h, h_val in enumerate(h_vals):\n",
    "            \n",
    "            cf.update_parameters(params, {\"h\": h_val})\n",
    "\n",
    "            # Create DiscrError object which holds the error w.r.t. to the continous results, and all associated parameters.\n",
    "            discr_error = DiscrError(**params, cont_integral_init=cont_integral)  \n",
    "            discr_error.optimize()  # optimize values for m and n\n",
    "\n",
    "            #Exit the loop it error is below machine precision, otherwise, append to hdf5 file\n",
    "            if discr_error.eps < 1.e-14:\n",
    "                break\n",
    "            else:\n",
    "                #create DlrKernel object based on DiscrError object\n",
    "                kernel = DlrKernel(discr_error)\n",
    "                #store to hdf5 file\n",
    "                h5_kernel.append_kernel_element(kernel, (h, tau, b))\n"
   ]
  },
  {
   "cell_type": "code",
   "execution_count": null,
   "metadata": {},
   "outputs": [],
   "source": []
  }
 ],
 "metadata": {
  "kernelspec": {
   "display_name": "channel_venv",
   "language": "python",
   "name": "python3"
  },
  "language_info": {
   "codemirror_mode": {
    "name": "ipython",
    "version": 3
   },
   "file_extension": ".py",
   "mimetype": "text/x-python",
   "name": "python",
   "nbconvert_exporter": "python",
   "pygments_lexer": "ipython3",
   "version": "3.8.9"
  }
 },
 "nbformat": 4,
 "nbformat_minor": 2
}
