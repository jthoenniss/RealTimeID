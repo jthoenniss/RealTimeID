{
 "cells": [
  {
   "cell_type": "code",
   "execution_count": 1,
   "metadata": {},
   "outputs": [
    {
     "name": "stdout",
     "output_type": "stream",
     "text": [
      "Project path successfully added.\n"
     ]
    }
   ],
   "source": [
    "#__Import libraries and script needed__\n",
    "# Standard libraries\n",
    "import numpy as np\n",
    "import matplotlib.pyplot as plt\n",
    "\n",
    "# System and Path Libraries for Module Import\n",
    "import os\n",
    "import sys\n",
    "\n",
    "# Set up the Project Path\n",
    "# Add this line to your ~/.bashrc or ~/.zshrc: export REALTIMEID_PATH='/absolute/path/to/project'\n",
    "project_path = os.environ.get('REALTIMEID_PATH')\n",
    "if project_path and project_path not in sys.path:\n",
    "    sys.path.append(project_path)\n",
    "    print(\"Project path successfully added.\")\n",
    "else:\n",
    "    print(\"Warning: 'REALTIMEID_PATH' environment variable is not set.\")\n",
    "\n",
    "# Import Custom Modules for Green's Function Kernel Analysis\n",
    "from src.discr_error.discr_error import DiscrError  # Class for discretization error analysis and related functions\n",
    "from src.dlr_kernel.dlr_kernel import DlrKernel  # Interpolative decomposition and utilities (e.g., effective coupling computation)\n",
    "from src.utils import common_funcs as cf  # Utilities for grid generation, spectral density computations, etc."
   ]
  },
  {
   "cell_type": "code",
   "execution_count": 2,
   "metadata": {},
   "outputs": [],
   "source": [
    "#_____Set Parameters______\n",
    "\n",
    "DEFAULT_PHI = np.pi / 4\n",
    "params = {\n",
    "    \"m\": None,  # to be updated for each computation\n",
    "    \"n\": None,  # to be updated for each computation\n",
    "    \"N_max\": None,  # not specified as we will directly pass the time grids \"times\"\n",
    "    \"delta_t\": 0.1,  #this step that we will use below to set the time grids\n",
    "    \"beta\": 20.0,  # inverse temperature\n",
    "    \"upper_cutoff\": 600.,  # frequency cutoff for continous integrations\n",
    "    \"h\": None,  # to be updated for each computation\n",
    "    \"phi\": DEFAULT_PHI,\n",
    "}  # either \"N_max\" and \"delta_t\" OR \"times\" needs to be specified to define the time grid. If all is specified, the argument \"times\" is used as time grid\n",
    "\n",
    "\n",
    "h_vals = np.log(\n",
    "    np.arange(2, 1.0, -0.05)\n",
    ")  # array with values of h which should be explored.\n",
    "nbr_iterations = len(h_vals)"
   ]
  },
  {
   "cell_type": "code",
   "execution_count": 3,
   "metadata": {},
   "outputs": [
    {
     "name": "stdout",
     "output_type": "stream",
     "text": [
      "Either the error does not shrink with decreasing h or the machine precision error was reached. Error = 7.650380296789864e-17. Stopping the iteration.\n"
     ]
    }
   ],
   "source": [
    "#_______Evaluate the error between the dicrete-frequency approximation and the continous-frequency integral_____\n",
    "N_maxs = np.arange(50,60,20)\n",
    "delta_t = 0.1\n",
    "\n",
    "# create empty array in which to store DiscrError objects\n",
    "discr_errors = np.empty(shape=(len(N_maxs),nbr_iterations), dtype=object)\n",
    "\n",
    "\n",
    "for tau, N_max in enumerate(N_maxs):\n",
    "    \n",
    "    cf.update_parameters(params, {\"N_max\": N_max})\n",
    "    times = cf.set_time_grid(N_max=params[\"N_max\"], delta_t= params[\"delta_t\"])\n",
    "    \n",
    "    #_______Compute continuous integral results________\n",
    "    cont_integral = np.array(\n",
    "        [\n",
    "            cf.cont_integral(t, params[\"beta\"], params[\"upper_cutoff\"])\n",
    "            for t in times\n",
    "        ]\n",
    "    )  # array containing all values for the continuous integration result\n",
    "\n",
    "    for i, h in enumerate(h_vals):\n",
    "        cf.update_parameters(params, {\"h\": h})\n",
    "\n",
    "        discr_error = DiscrError(\n",
    "            **params, cont_integral_init=cont_integral\n",
    "        )  # DiscrError object which holds the error w.r.t. to the continous results, and all associated parameters.\n",
    "\n",
    "        discr_error.optimize()  # optimize values for m and n\n",
    "\n",
    "        #Exit the loop it error is below machine precision of if it does not keep shrinking with smaller h. Otherwise, append to array\n",
    "      \n",
    "        if cf.check_error_condition(\n",
    "            eps_current=discr_error.eps,\n",
    "            eps_previous=discr_errors[tau,i-1].eps if i > 1 else np.infty,\n",
    "        ):\n",
    "            break\n",
    "        else:\n",
    "            discr_errors[tau, i] = discr_error\n"
   ]
  },
  {
   "cell_type": "code",
   "execution_count": 4,
   "metadata": {},
   "outputs": [],
   "source": [
    "#_____Evaluate the Real-time Kernel and its interpolative decomposition (ID)___\n",
    "D = np.array([[DlrKernel(discr_errors[tau,i]) for i in range (nbr_iterations)] for tau in range (len(N_maxs))]) # Use DiscrError object to initialize the kernel. This ensures that consistency of all parameters."
   ]
  },
  {
   "cell_type": "code",
   "execution_count": 5,
   "metadata": {},
   "outputs": [],
   "source": [
    "#_______Extract the data that we want to visualize below________\n",
    "errors, m_vals, n_vals, h_vals, ID_ranks = cf.create_numpy_arrays(D)\n",
    "nbr_modes_total = m_vals + n_vals"
   ]
  },
  {
   "cell_type": "code",
   "execution_count": 6,
   "metadata": {},
   "outputs": [],
   "source": [
    "#_______Set global plot parameters____________\n",
    "plt.rcParams.update({\"text.usetex\": True, \"font.family\": \"Helvetica\", \"font.size\": 8})\n",
    "cmaps = [plt.get_cmap(\"Blues\"), plt.get_cmap(\"Reds\")]\n",
    "colors_blue = cmaps[0](np.linspace(0.35, 0.9, len(N_maxs)))\n",
    "colors_orange = cmaps[1](np.linspace(0.35, 0.9, len(N_maxs)))"
   ]
  },
  {
   "cell_type": "code",
   "execution_count": 7,
   "metadata": {},
   "outputs": [
    {
     "data": {
      "image/png": "[encoded data removed]",
      "text/plain": [
       "<Figure size 950x250 with 2 Axes>"
      ]
     },
     "metadata": {},
     "output_type": "display_data"
    }
   ],
   "source": [
    "#_____Plot the number of modes versus the error and the discretization parameter h____\n",
    "fig, axs = plt.subplots(1, 2, figsize=(9.5, 2.5))\n",
    "for tau in range (len(N_maxs)):\n",
    "    axs[0].plot(errors[tau,:],nbr_modes_total[tau,:],color=colors_orange[tau],marker=\"o\",linestyle=\"-\",markersize=3, label = r'$t={}$'.format(N_maxs[tau] * delta_t))\n",
    "    axs[0].plot(errors[tau,:], ID_ranks[tau,:], color=colors_blue[tau], marker=\"o\", linestyle=\"-\", markersize=3)\n",
    "    \n",
    "axs[0].set_xlabel(r\"$\\epsilon_{discr}$\")\n",
    "#axs[0].text(1.e-8, 30, \"Red: m+n,\\n Blue: ID-rank\")\n",
    "axs[0].legend()\n",
    "axs[0].set_xscale(\"log\")\n",
    "\n",
    "for tau in range (len(N_maxs)):\n",
    "    axs[1].plot(errors[tau,:]/(N_maxs[tau] * delta_t),nbr_modes_total[tau,:],color=colors_orange[tau],marker=\"o\",linestyle=\"-\",markersize=3, label = r'$t={}$'.format(N_maxs[tau]* delta_t))\n",
    "    axs[1].plot(errors[tau,:]/(N_maxs[tau] * delta_t), ID_ranks[tau,:], color=colors_blue[tau], marker=\"o\", linestyle=\"-\", markersize=3)\n",
    "    \n",
    "axs[1].set_xlabel(r\"$\\epsilon_{discr} / t$\")\n",
    "#axs[1].text(1.e-8, 30, \"Red: m+n,\\n Blue: ID-rank\")\n",
    "axs[1].legend()\n",
    "axs[1].set_xscale(\"log\")\n",
    "\n",
    "#plt.savefig(\"./plots/collapse.pdf\", bbox_inches='tight')\n"
   ]
  },
  {
   "cell_type": "code",
   "execution_count": null,
   "metadata": {},
   "outputs": [],
   "source": []
  }
 ],
 "metadata": {
  "kernelspec": {
   "display_name": "channel_venv",
   "language": "python",
   "name": "python3"
  },
  "language_info": {
   "codemirror_mode": {
    "name": "ipython",
    "version": 3
   },
   "file_extension": ".py",
   "mimetype": "text/x-python",
   "name": "python",
   "nbconvert_exporter": "python",
   "pygments_lexer": "ipython3",
   "version": "3.8.9"
  }
 },
 "nbformat": 4,
 "nbformat_minor": 2
}
